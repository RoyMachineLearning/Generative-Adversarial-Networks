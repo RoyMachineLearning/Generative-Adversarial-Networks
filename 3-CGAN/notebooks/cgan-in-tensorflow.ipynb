{
 "cells": [
  {
   "cell_type": "code",
   "execution_count": 1,
   "metadata": {
    "_cell_guid": "b1076dfc-b9ad-4769-8c92-a6c4dae69d19",
    "_uuid": "8f2839f25d086af736a60e9eeb907d3b93b6e0e5"
   },
   "outputs": [],
   "source": [
    "import os, warnings\n",
    "warnings.filterwarnings('ignore')"
   ]
  },
  {
   "cell_type": "code",
   "execution_count": 2,
   "metadata": {},
   "outputs": [
    {
     "name": "stderr",
     "output_type": "stream",
     "text": [
      "Using TensorFlow backend.\n"
     ]
    }
   ],
   "source": [
    "import numpy as np\n",
    "import matplotlib.pyplot as plt\n",
    "from tqdm import tqdm\n",
    "from tensorflow.keras.datasets import mnist\n",
    "from tensorflow.keras.models import Sequential, Model\n",
    "from tensorflow.keras.layers import Dense, LeakyReLU, BatchNormalization, Input, Dropout\n",
    "from tensorflow.keras.layers import Reshape, Embedding, Flatten, concatenate, multiply\n",
    "from tensorflow.keras.optimizers import Adam\n",
    "from keras.utils.vis_utils import model_to_dot\n",
    "from IPython.display import SVG\n",
    "from tqdm import tqdm"
   ]
  },
  {
   "cell_type": "code",
   "execution_count": 3,
   "metadata": {},
   "outputs": [],
   "source": [
    "IMAGE_WIDTH = 28\n",
    "IMAGE_HEIGHT = 28\n",
    "IMAGE_CHANNELS = 1\n",
    "BATCH_SIZE = 32\n",
    "NUM_CLASSES = 10\n",
    "LATENT_DIMENSION = 100\n",
    "IMAGE_SHAPE = (IMAGE_WIDTH, IMAGE_HEIGHT, IMAGE_CHANNELS)\n",
    "EPOCHS = 20000"
   ]
  },
  {
   "cell_type": "code",
   "execution_count": 4,
   "metadata": {},
   "outputs": [],
   "source": [
    "def load_data():\n",
    "    (x_train, y_train), (_, _) = mnist.load_data()\n",
    "    x_train = x_train / 127.5 - 1.\n",
    "    x_train = np.expand_dims(x_train, axis = 3)\n",
    "    y_train = y_train.reshape(-1, 1)\n",
    "    return x_train, y_train"
   ]
  },
  {
   "cell_type": "code",
   "execution_count": 5,
   "metadata": {},
   "outputs": [
    {
     "name": "stdout",
     "output_type": "stream",
     "text": [
      "Downloading data from https://storage.googleapis.com/tensorflow/tf-keras-datasets/mnist.npz\n",
      "11493376/11490434 [==============================] - 0s 0us/step\n"
     ]
    },
    {
     "data": {
      "text/plain": [
       "((60000, 28, 28, 1), (60000, 1))"
      ]
     },
     "execution_count": 5,
     "metadata": {},
     "output_type": "execute_result"
    }
   ],
   "source": [
    "x_train, y_train = load_data()\n",
    "x_train.shape, y_train.shape"
   ]
  },
  {
   "cell_type": "code",
   "execution_count": 6,
   "metadata": {},
   "outputs": [],
   "source": [
    "def build_generator(latent_dimension, image_shape, num_classes):\n",
    "    \n",
    "    model = Sequential([\n",
    "        Dense(256, input_dim = latent_dimension),\n",
    "        LeakyReLU(alpha = 0.2),\n",
    "        BatchNormalization(momentum = 0.8),\n",
    "        Dense(512),\n",
    "        LeakyReLU(alpha = 0.2),\n",
    "        BatchNormalization(momentum = 0.8),\n",
    "        Dense(1024),\n",
    "        LeakyReLU(alpha = 0.2),\n",
    "        BatchNormalization(momentum = 0.8),\n",
    "        Dense(np.prod(image_shape), activation = 'tanh'),\n",
    "        Reshape(image_shape)\n",
    "    ], name = 'Generator_Sequential')\n",
    "    \n",
    "    noise = Input(shape = (latent_dimension, ), name = 'Noise_Input')\n",
    "    label = Input(shape = (1, ), dtype = 'int32', name = 'Label_Input')\n",
    "    embedding = Embedding(num_classes, latent_dimension, name = 'Embedding')(label)\n",
    "    label_embedding = Flatten()(embedding)\n",
    "    \n",
    "    model_input = multiply([noise, label_embedding])\n",
    "    image = model(model_input)\n",
    "    \n",
    "    return Model([noise, label], image)"
   ]
  },
  {
   "cell_type": "code",
   "execution_count": 7,
   "metadata": {},
   "outputs": [],
   "source": [
    "def build_discriminator(latent_dimension, image_shape, num_classes):\n",
    "    \n",
    "    model = Sequential([\n",
    "        Dense(512, input_dim = np.prod(image_shape)),\n",
    "        LeakyReLU(alpha = 0.2),\n",
    "        Dense(512),\n",
    "        LeakyReLU(alpha = 0.2),\n",
    "        Dropout(0.4),\n",
    "        Dense(512),\n",
    "        LeakyReLU(alpha = 0.2),\n",
    "        Dropout(0.4),\n",
    "        Dense(1, activation = 'sigmoid')\n",
    "    ], name = 'Discriminator_Sequential')\n",
    "    \n",
    "    image = Input(shape = image_shape, name = 'Image_Input')\n",
    "    label = Input(shape = (1, ), dtype = 'int32', name = 'Label_Input')\n",
    "    embedding = Embedding(num_classes, np.prod(image_shape), name = 'Embedding')(label)\n",
    "    label_embedding = Flatten()(embedding)\n",
    "    \n",
    "    model_input = multiply([image, label_embedding])\n",
    "    \n",
    "    validity = model(model_input)\n",
    "    \n",
    "    return Model([image, label], validity)"
   ]
  },
  {
   "cell_type": "code",
   "execution_count": 8,
   "metadata": {},
   "outputs": [
    {
     "name": "stdout",
     "output_type": "stream",
     "text": [
      "WARNING:tensorflow:From /opt/conda/lib/python3.6/site-packages/tensorflow/python/ops/resource_variable_ops.py:435: colocate_with (from tensorflow.python.framework.ops) is deprecated and will be removed in a future version.\n",
      "Instructions for updating:\n",
      "Colocations handled automatically by placer.\n",
      "__________________________________________________________________________________________________\n",
      "Layer (type)                    Output Shape         Param #     Connected to                     \n",
      "==================================================================================================\n",
      "Label_Input (InputLayer)        (None, 1)            0                                            \n",
      "__________________________________________________________________________________________________\n",
      "Embedding (Embedding)           (None, 1, 100)       1000        Label_Input[0][0]                \n",
      "__________________________________________________________________________________________________\n",
      "Noise_Input (InputLayer)        (None, 100)          0                                            \n",
      "__________________________________________________________________________________________________\n",
      "flatten (Flatten)               (None, 100)          0           Embedding[0][0]                  \n",
      "__________________________________________________________________________________________________\n",
      "multiply (Multiply)             (None, 100)          0           Noise_Input[0][0]                \n",
      "                                                                 flatten[0][0]                    \n",
      "__________________________________________________________________________________________________\n",
      "Generator_Sequential (Sequentia (None, 28, 28, 1)    1493520     multiply[0][0]                   \n",
      "==================================================================================================\n",
      "Total params: 1,494,520\n",
      "Trainable params: 1,490,936\n",
      "Non-trainable params: 3,584\n",
      "__________________________________________________________________________________________________\n"
     ]
    }
   ],
   "source": [
    "generator = build_generator(LATENT_DIMENSION, IMAGE_SHAPE, NUM_CLASSES)\n",
    "generator.summary()"
   ]
  },
  {
   "cell_type": "code",
   "execution_count": 9,
   "metadata": {},
   "outputs": [
    {
     "data": {
      "image/svg+xml": [
       "<svg height=\"387pt\" viewBox=\"0.00 0.00 590.50 387.00\" width=\"591pt\" xmlns=\"http://www.w3.org/2000/svg\" xmlns:xlink=\"http://www.w3.org/1999/xlink\">\n",
       "<g class=\"graph\" id=\"graph0\" transform=\"scale(1 1) rotate(0) translate(4 383)\">\n",
       "<title>G</title>\n",
       "<polygon fill=\"white\" points=\"-4,4 -4,-383 586.5,-383 586.5,4 -4,4\" stroke=\"none\"/>\n",
       "<!-- 140116164004384 -->\n",
       "<g class=\"node\" id=\"node1\"><title>140116164004384</title>\n",
       "<polygon fill=\"none\" points=\"14,-332.5 14,-378.5 288,-378.5 288,-332.5 14,-332.5\" stroke=\"black\"/>\n",
       "<text font-family=\"Times,serif\" font-size=\"14.00\" text-anchor=\"middle\" x=\"89\" y=\"-351.8\">Label_Input: InputLayer</text>\n",
       "<polyline fill=\"none\" points=\"164,-332.5 164,-378.5 \" stroke=\"black\"/>\n",
       "<text font-family=\"Times,serif\" font-size=\"14.00\" text-anchor=\"middle\" x=\"191.5\" y=\"-363.3\">input:</text>\n",
       "<polyline fill=\"none\" points=\"164,-355.5 219,-355.5 \" stroke=\"black\"/>\n",
       "<text font-family=\"Times,serif\" font-size=\"14.00\" text-anchor=\"middle\" x=\"191.5\" y=\"-340.3\">output:</text>\n",
       "<polyline fill=\"none\" points=\"219,-332.5 219,-378.5 \" stroke=\"black\"/>\n",
       "<text font-family=\"Times,serif\" font-size=\"14.00\" text-anchor=\"middle\" x=\"253.5\" y=\"-363.3\">(None, 1)</text>\n",
       "<polyline fill=\"none\" points=\"219,-355.5 288,-355.5 \" stroke=\"black\"/>\n",
       "<text font-family=\"Times,serif\" font-size=\"14.00\" text-anchor=\"middle\" x=\"253.5\" y=\"-340.3\">(None, 1)</text>\n",
       "</g>\n",
       "<!-- 140116146308992 -->\n",
       "<g class=\"node\" id=\"node2\"><title>140116146308992</title>\n",
       "<polygon fill=\"none\" points=\"0,-249.5 0,-295.5 302,-295.5 302,-249.5 0,-249.5\" stroke=\"black\"/>\n",
       "<text font-family=\"Times,serif\" font-size=\"14.00\" text-anchor=\"middle\" x=\"75\" y=\"-268.8\">Embedding: Embedding</text>\n",
       "<polyline fill=\"none\" points=\"150,-249.5 150,-295.5 \" stroke=\"black\"/>\n",
       "<text font-family=\"Times,serif\" font-size=\"14.00\" text-anchor=\"middle\" x=\"177.5\" y=\"-280.3\">input:</text>\n",
       "<polyline fill=\"none\" points=\"150,-272.5 205,-272.5 \" stroke=\"black\"/>\n",
       "<text font-family=\"Times,serif\" font-size=\"14.00\" text-anchor=\"middle\" x=\"177.5\" y=\"-257.3\">output:</text>\n",
       "<polyline fill=\"none\" points=\"205,-249.5 205,-295.5 \" stroke=\"black\"/>\n",
       "<text font-family=\"Times,serif\" font-size=\"14.00\" text-anchor=\"middle\" x=\"253.5\" y=\"-280.3\">(None, 1)</text>\n",
       "<polyline fill=\"none\" points=\"205,-272.5 302,-272.5 \" stroke=\"black\"/>\n",
       "<text font-family=\"Times,serif\" font-size=\"14.00\" text-anchor=\"middle\" x=\"253.5\" y=\"-257.3\">(None, 1, 100)</text>\n",
       "</g>\n",
       "<!-- 140116164004384&#45;&gt;140116146308992 -->\n",
       "<g class=\"edge\" id=\"edge1\"><title>140116164004384-&gt;140116146308992</title>\n",
       "<path d=\"M151,-332.366C151,-324.152 151,-314.658 151,-305.725\" fill=\"none\" stroke=\"black\"/>\n",
       "<polygon fill=\"black\" points=\"154.5,-305.607 151,-295.607 147.5,-305.607 154.5,-305.607\" stroke=\"black\"/>\n",
       "</g>\n",
       "<!-- 140116146093528 -->\n",
       "<g class=\"node\" id=\"node4\"><title>140116146093528</title>\n",
       "<polygon fill=\"none\" points=\"27,-166.5 27,-212.5 275,-212.5 275,-166.5 27,-166.5\" stroke=\"black\"/>\n",
       "<text font-family=\"Times,serif\" font-size=\"14.00\" text-anchor=\"middle\" x=\"75\" y=\"-185.8\">flatten: Flatten</text>\n",
       "<polyline fill=\"none\" points=\"123,-166.5 123,-212.5 \" stroke=\"black\"/>\n",
       "<text font-family=\"Times,serif\" font-size=\"14.00\" text-anchor=\"middle\" x=\"150.5\" y=\"-197.3\">input:</text>\n",
       "<polyline fill=\"none\" points=\"123,-189.5 178,-189.5 \" stroke=\"black\"/>\n",
       "<text font-family=\"Times,serif\" font-size=\"14.00\" text-anchor=\"middle\" x=\"150.5\" y=\"-174.3\">output:</text>\n",
       "<polyline fill=\"none\" points=\"178,-166.5 178,-212.5 \" stroke=\"black\"/>\n",
       "<text font-family=\"Times,serif\" font-size=\"14.00\" text-anchor=\"middle\" x=\"226.5\" y=\"-197.3\">(None, 1, 100)</text>\n",
       "<polyline fill=\"none\" points=\"178,-189.5 275,-189.5 \" stroke=\"black\"/>\n",
       "<text font-family=\"Times,serif\" font-size=\"14.00\" text-anchor=\"middle\" x=\"226.5\" y=\"-174.3\">(None, 100)</text>\n",
       "</g>\n",
       "<!-- 140116146308992&#45;&gt;140116146093528 -->\n",
       "<g class=\"edge\" id=\"edge2\"><title>140116146308992-&gt;140116146093528</title>\n",
       "<path d=\"M151,-249.366C151,-241.152 151,-231.658 151,-222.725\" fill=\"none\" stroke=\"black\"/>\n",
       "<polygon fill=\"black\" points=\"154.5,-222.607 151,-212.607 147.5,-222.607 154.5,-222.607\" stroke=\"black\"/>\n",
       "</g>\n",
       "<!-- 140116147900200 -->\n",
       "<g class=\"node\" id=\"node3\"><title>140116147900200</title>\n",
       "<polygon fill=\"none\" points=\"293.5,-166.5 293.5,-212.5 582.5,-212.5 582.5,-166.5 293.5,-166.5\" stroke=\"black\"/>\n",
       "<text font-family=\"Times,serif\" font-size=\"14.00\" text-anchor=\"middle\" x=\"369\" y=\"-185.8\">Noise_Input: InputLayer</text>\n",
       "<polyline fill=\"none\" points=\"444.5,-166.5 444.5,-212.5 \" stroke=\"black\"/>\n",
       "<text font-family=\"Times,serif\" font-size=\"14.00\" text-anchor=\"middle\" x=\"472\" y=\"-197.3\">input:</text>\n",
       "<polyline fill=\"none\" points=\"444.5,-189.5 499.5,-189.5 \" stroke=\"black\"/>\n",
       "<text font-family=\"Times,serif\" font-size=\"14.00\" text-anchor=\"middle\" x=\"472\" y=\"-174.3\">output:</text>\n",
       "<polyline fill=\"none\" points=\"499.5,-166.5 499.5,-212.5 \" stroke=\"black\"/>\n",
       "<text font-family=\"Times,serif\" font-size=\"14.00\" text-anchor=\"middle\" x=\"541\" y=\"-197.3\">(None, 100)</text>\n",
       "<polyline fill=\"none\" points=\"499.5,-189.5 582.5,-189.5 \" stroke=\"black\"/>\n",
       "<text font-family=\"Times,serif\" font-size=\"14.00\" text-anchor=\"middle\" x=\"541\" y=\"-174.3\">(None, 100)</text>\n",
       "</g>\n",
       "<!-- 140116145483168 -->\n",
       "<g class=\"node\" id=\"node5\"><title>140116145483168</title>\n",
       "<polygon fill=\"none\" points=\"124.5,-83.5 124.5,-129.5 463.5,-129.5 463.5,-83.5 124.5,-83.5\" stroke=\"black\"/>\n",
       "<text font-family=\"Times,serif\" font-size=\"14.00\" text-anchor=\"middle\" x=\"184\" y=\"-102.8\">multiply: Multiply</text>\n",
       "<polyline fill=\"none\" points=\"243.5,-83.5 243.5,-129.5 \" stroke=\"black\"/>\n",
       "<text font-family=\"Times,serif\" font-size=\"14.00\" text-anchor=\"middle\" x=\"271\" y=\"-114.3\">input:</text>\n",
       "<polyline fill=\"none\" points=\"243.5,-106.5 298.5,-106.5 \" stroke=\"black\"/>\n",
       "<text font-family=\"Times,serif\" font-size=\"14.00\" text-anchor=\"middle\" x=\"271\" y=\"-91.3\">output:</text>\n",
       "<polyline fill=\"none\" points=\"298.5,-83.5 298.5,-129.5 \" stroke=\"black\"/>\n",
       "<text font-family=\"Times,serif\" font-size=\"14.00\" text-anchor=\"middle\" x=\"381\" y=\"-114.3\">[(None, 100), (None, 100)]</text>\n",
       "<polyline fill=\"none\" points=\"298.5,-106.5 463.5,-106.5 \" stroke=\"black\"/>\n",
       "<text font-family=\"Times,serif\" font-size=\"14.00\" text-anchor=\"middle\" x=\"381\" y=\"-91.3\">(None, 100)</text>\n",
       "</g>\n",
       "<!-- 140116147900200&#45;&gt;140116145483168 -->\n",
       "<g class=\"edge\" id=\"edge3\"><title>140116147900200-&gt;140116145483168</title>\n",
       "<path d=\"M398.651,-166.366C381.19,-156.544 360.478,-144.894 342.107,-134.56\" fill=\"none\" stroke=\"black\"/>\n",
       "<polygon fill=\"black\" points=\"343.733,-131.459 333.301,-129.607 340.301,-137.56 343.733,-131.459\" stroke=\"black\"/>\n",
       "</g>\n",
       "<!-- 140116146093528&#45;&gt;140116145483168 -->\n",
       "<g class=\"edge\" id=\"edge4\"><title>140116146093528-&gt;140116145483168</title>\n",
       "<path d=\"M190.075,-166.366C207.415,-156.544 227.983,-144.894 246.227,-134.56\" fill=\"none\" stroke=\"black\"/>\n",
       "<polygon fill=\"black\" points=\"247.996,-137.581 254.972,-129.607 244.546,-131.49 247.996,-137.581\" stroke=\"black\"/>\n",
       "</g>\n",
       "<!-- 140116164002760 -->\n",
       "<g class=\"node\" id=\"node6\"><title>140116164002760</title>\n",
       "<polygon fill=\"none\" points=\"111.5,-0.5 111.5,-46.5 476.5,-46.5 476.5,-0.5 111.5,-0.5\" stroke=\"black\"/>\n",
       "<text font-family=\"Times,serif\" font-size=\"14.00\" text-anchor=\"middle\" x=\"211\" y=\"-19.8\">Generator_Sequential: Sequential</text>\n",
       "<polyline fill=\"none\" points=\"310.5,-0.5 310.5,-46.5 \" stroke=\"black\"/>\n",
       "<text font-family=\"Times,serif\" font-size=\"14.00\" text-anchor=\"middle\" x=\"338\" y=\"-31.3\">input:</text>\n",
       "<polyline fill=\"none\" points=\"310.5,-23.5 365.5,-23.5 \" stroke=\"black\"/>\n",
       "<text font-family=\"Times,serif\" font-size=\"14.00\" text-anchor=\"middle\" x=\"338\" y=\"-8.3\">output:</text>\n",
       "<polyline fill=\"none\" points=\"365.5,-0.5 365.5,-46.5 \" stroke=\"black\"/>\n",
       "<text font-family=\"Times,serif\" font-size=\"14.00\" text-anchor=\"middle\" x=\"421\" y=\"-31.3\">(None, 100)</text>\n",
       "<polyline fill=\"none\" points=\"365.5,-23.5 476.5,-23.5 \" stroke=\"black\"/>\n",
       "<text font-family=\"Times,serif\" font-size=\"14.00\" text-anchor=\"middle\" x=\"421\" y=\"-8.3\">(None, 28, 28, 1)</text>\n",
       "</g>\n",
       "<!-- 140116145483168&#45;&gt;140116164002760 -->\n",
       "<g class=\"edge\" id=\"edge5\"><title>140116145483168-&gt;140116164002760</title>\n",
       "<path d=\"M294,-83.3664C294,-75.1516 294,-65.6579 294,-56.7252\" fill=\"none\" stroke=\"black\"/>\n",
       "<polygon fill=\"black\" points=\"297.5,-56.6068 294,-46.6068 290.5,-56.6069 297.5,-56.6068\" stroke=\"black\"/>\n",
       "</g>\n",
       "</g>\n",
       "</svg>"
      ],
      "text/plain": [
       "<IPython.core.display.SVG object>"
      ]
     },
     "execution_count": 9,
     "metadata": {},
     "output_type": "execute_result"
    }
   ],
   "source": [
    "SVG(model_to_dot(generator, show_shapes = True, show_layer_names = True).create(prog = 'dot', format = 'svg'))"
   ]
  },
  {
   "cell_type": "code",
   "execution_count": 10,
   "metadata": {},
   "outputs": [
    {
     "name": "stdout",
     "output_type": "stream",
     "text": [
      "WARNING:tensorflow:From /opt/conda/lib/python3.6/site-packages/tensorflow/python/keras/layers/core.py:143: calling dropout (from tensorflow.python.ops.nn_ops) with keep_prob is deprecated and will be removed in a future version.\n",
      "Instructions for updating:\n",
      "Please use `rate` instead of `keep_prob`. Rate should be set to `rate = 1 - keep_prob`.\n",
      "__________________________________________________________________________________________________\n",
      "Layer (type)                    Output Shape         Param #     Connected to                     \n",
      "==================================================================================================\n",
      "Label_Input (InputLayer)        (None, 1)            0                                            \n",
      "__________________________________________________________________________________________________\n",
      "Embedding (Embedding)           (None, 1, 784)       7840        Label_Input[0][0]                \n",
      "__________________________________________________________________________________________________\n",
      "Image_Input (InputLayer)        (None, 28, 28, 1)    0                                            \n",
      "__________________________________________________________________________________________________\n",
      "flatten_1 (Flatten)             (None, 784)          0           Embedding[0][0]                  \n",
      "__________________________________________________________________________________________________\n",
      "multiply_1 (Multiply)           (None, 28, 28, 784)  0           Image_Input[0][0]                \n",
      "                                                                 flatten_1[0][0]                  \n",
      "__________________________________________________________________________________________________\n",
      "Discriminator_Sequential (Seque multiple             927745      multiply_1[0][0]                 \n",
      "==================================================================================================\n",
      "Total params: 935,585\n",
      "Trainable params: 935,585\n",
      "Non-trainable params: 0\n",
      "__________________________________________________________________________________________________\n"
     ]
    }
   ],
   "source": [
    "discriminator = build_discriminator(LATENT_DIMENSION, IMAGE_SHAPE, NUM_CLASSES)\n",
    "discriminator.summary()"
   ]
  },
  {
   "cell_type": "code",
   "execution_count": 11,
   "metadata": {},
   "outputs": [
    {
     "data": {
      "image/svg+xml": [
       "<svg height=\"792pt\" viewBox=\"0.00 0.00 314.00 792.00\" width=\"314pt\" xmlns=\"http://www.w3.org/2000/svg\" xmlns:xlink=\"http://www.w3.org/1999/xlink\">\n",
       "<g class=\"graph\" id=\"graph0\" transform=\"scale(1 1) rotate(0) translate(4 788)\">\n",
       "<title>G</title>\n",
       "<polygon fill=\"white\" points=\"-4,4 -4,-788 310,-788 310,4 -4,4\" stroke=\"none\"/>\n",
       "<!-- 140116164374368 -->\n",
       "<g class=\"node\" id=\"node1\"><title>140116164374368</title>\n",
       "<polygon fill=\"none\" points=\"33,-664.5 33,-710.5 273,-710.5 273,-664.5 33,-664.5\" stroke=\"black\"/>\n",
       "<text font-family=\"Times,serif\" font-size=\"14.00\" text-anchor=\"middle\" x=\"84\" y=\"-683.8\">dense_4: Dense</text>\n",
       "<polyline fill=\"none\" points=\"135,-664.5 135,-710.5 \" stroke=\"black\"/>\n",
       "<text font-family=\"Times,serif\" font-size=\"14.00\" text-anchor=\"middle\" x=\"162.5\" y=\"-695.3\">input:</text>\n",
       "<polyline fill=\"none\" points=\"135,-687.5 190,-687.5 \" stroke=\"black\"/>\n",
       "<text font-family=\"Times,serif\" font-size=\"14.00\" text-anchor=\"middle\" x=\"162.5\" y=\"-672.3\">output:</text>\n",
       "<polyline fill=\"none\" points=\"190,-664.5 190,-710.5 \" stroke=\"black\"/>\n",
       "<text font-family=\"Times,serif\" font-size=\"14.00\" text-anchor=\"middle\" x=\"231.5\" y=\"-695.3\">(None, 784)</text>\n",
       "<polyline fill=\"none\" points=\"190,-687.5 273,-687.5 \" stroke=\"black\"/>\n",
       "<text font-family=\"Times,serif\" font-size=\"14.00\" text-anchor=\"middle\" x=\"231.5\" y=\"-672.3\">(None, 512)</text>\n",
       "</g>\n",
       "<!-- 140116141969248 -->\n",
       "<g class=\"node\" id=\"node2\"><title>140116141969248</title>\n",
       "<polygon fill=\"none\" points=\"0,-581.5 0,-627.5 306,-627.5 306,-581.5 0,-581.5\" stroke=\"black\"/>\n",
       "<text font-family=\"Times,serif\" font-size=\"14.00\" text-anchor=\"middle\" x=\"84\" y=\"-600.8\">leaky_re_lu_3: LeakyReLU</text>\n",
       "<polyline fill=\"none\" points=\"168,-581.5 168,-627.5 \" stroke=\"black\"/>\n",
       "<text font-family=\"Times,serif\" font-size=\"14.00\" text-anchor=\"middle\" x=\"195.5\" y=\"-612.3\">input:</text>\n",
       "<polyline fill=\"none\" points=\"168,-604.5 223,-604.5 \" stroke=\"black\"/>\n",
       "<text font-family=\"Times,serif\" font-size=\"14.00\" text-anchor=\"middle\" x=\"195.5\" y=\"-589.3\">output:</text>\n",
       "<polyline fill=\"none\" points=\"223,-581.5 223,-627.5 \" stroke=\"black\"/>\n",
       "<text font-family=\"Times,serif\" font-size=\"14.00\" text-anchor=\"middle\" x=\"264.5\" y=\"-612.3\">(None, 512)</text>\n",
       "<polyline fill=\"none\" points=\"223,-604.5 306,-604.5 \" stroke=\"black\"/>\n",
       "<text font-family=\"Times,serif\" font-size=\"14.00\" text-anchor=\"middle\" x=\"264.5\" y=\"-589.3\">(None, 512)</text>\n",
       "</g>\n",
       "<!-- 140116164374368&#45;&gt;140116141969248 -->\n",
       "<g class=\"edge\" id=\"edge2\"><title>140116164374368-&gt;140116141969248</title>\n",
       "<path d=\"M153,-664.366C153,-656.152 153,-646.658 153,-637.725\" fill=\"none\" stroke=\"black\"/>\n",
       "<polygon fill=\"black\" points=\"156.5,-637.607 153,-627.607 149.5,-637.607 156.5,-637.607\" stroke=\"black\"/>\n",
       "</g>\n",
       "<!-- 140116141969360 -->\n",
       "<g class=\"node\" id=\"node3\"><title>140116141969360</title>\n",
       "<polygon fill=\"none\" points=\"33,-498.5 33,-544.5 273,-544.5 273,-498.5 33,-498.5\" stroke=\"black\"/>\n",
       "<text font-family=\"Times,serif\" font-size=\"14.00\" text-anchor=\"middle\" x=\"84\" y=\"-517.8\">dense_5: Dense</text>\n",
       "<polyline fill=\"none\" points=\"135,-498.5 135,-544.5 \" stroke=\"black\"/>\n",
       "<text font-family=\"Times,serif\" font-size=\"14.00\" text-anchor=\"middle\" x=\"162.5\" y=\"-529.3\">input:</text>\n",
       "<polyline fill=\"none\" points=\"135,-521.5 190,-521.5 \" stroke=\"black\"/>\n",
       "<text font-family=\"Times,serif\" font-size=\"14.00\" text-anchor=\"middle\" x=\"162.5\" y=\"-506.3\">output:</text>\n",
       "<polyline fill=\"none\" points=\"190,-498.5 190,-544.5 \" stroke=\"black\"/>\n",
       "<text font-family=\"Times,serif\" font-size=\"14.00\" text-anchor=\"middle\" x=\"231.5\" y=\"-529.3\">(None, 512)</text>\n",
       "<polyline fill=\"none\" points=\"190,-521.5 273,-521.5 \" stroke=\"black\"/>\n",
       "<text font-family=\"Times,serif\" font-size=\"14.00\" text-anchor=\"middle\" x=\"231.5\" y=\"-506.3\">(None, 512)</text>\n",
       "</g>\n",
       "<!-- 140116141969248&#45;&gt;140116141969360 -->\n",
       "<g class=\"edge\" id=\"edge3\"><title>140116141969248-&gt;140116141969360</title>\n",
       "<path d=\"M153,-581.366C153,-573.152 153,-563.658 153,-554.725\" fill=\"none\" stroke=\"black\"/>\n",
       "<polygon fill=\"black\" points=\"156.5,-554.607 153,-544.607 149.5,-554.607 156.5,-554.607\" stroke=\"black\"/>\n",
       "</g>\n",
       "<!-- 140116141969024 -->\n",
       "<g class=\"node\" id=\"node4\"><title>140116141969024</title>\n",
       "<polygon fill=\"none\" points=\"0,-415.5 0,-461.5 306,-461.5 306,-415.5 0,-415.5\" stroke=\"black\"/>\n",
       "<text font-family=\"Times,serif\" font-size=\"14.00\" text-anchor=\"middle\" x=\"84\" y=\"-434.8\">leaky_re_lu_4: LeakyReLU</text>\n",
       "<polyline fill=\"none\" points=\"168,-415.5 168,-461.5 \" stroke=\"black\"/>\n",
       "<text font-family=\"Times,serif\" font-size=\"14.00\" text-anchor=\"middle\" x=\"195.5\" y=\"-446.3\">input:</text>\n",
       "<polyline fill=\"none\" points=\"168,-438.5 223,-438.5 \" stroke=\"black\"/>\n",
       "<text font-family=\"Times,serif\" font-size=\"14.00\" text-anchor=\"middle\" x=\"195.5\" y=\"-423.3\">output:</text>\n",
       "<polyline fill=\"none\" points=\"223,-415.5 223,-461.5 \" stroke=\"black\"/>\n",
       "<text font-family=\"Times,serif\" font-size=\"14.00\" text-anchor=\"middle\" x=\"264.5\" y=\"-446.3\">(None, 512)</text>\n",
       "<polyline fill=\"none\" points=\"223,-438.5 306,-438.5 \" stroke=\"black\"/>\n",
       "<text font-family=\"Times,serif\" font-size=\"14.00\" text-anchor=\"middle\" x=\"264.5\" y=\"-423.3\">(None, 512)</text>\n",
       "</g>\n",
       "<!-- 140116141969360&#45;&gt;140116141969024 -->\n",
       "<g class=\"edge\" id=\"edge4\"><title>140116141969360-&gt;140116141969024</title>\n",
       "<path d=\"M153,-498.366C153,-490.152 153,-480.658 153,-471.725\" fill=\"none\" stroke=\"black\"/>\n",
       "<polygon fill=\"black\" points=\"156.5,-471.607 153,-461.607 149.5,-471.607 156.5,-471.607\" stroke=\"black\"/>\n",
       "</g>\n",
       "<!-- 140116141968856 -->\n",
       "<g class=\"node\" id=\"node5\"><title>140116141968856</title>\n",
       "<polygon fill=\"none\" points=\"28.5,-332.5 28.5,-378.5 277.5,-378.5 277.5,-332.5 28.5,-332.5\" stroke=\"black\"/>\n",
       "<text font-family=\"Times,serif\" font-size=\"14.00\" text-anchor=\"middle\" x=\"84\" y=\"-351.8\">dropout: Dropout</text>\n",
       "<polyline fill=\"none\" points=\"139.5,-332.5 139.5,-378.5 \" stroke=\"black\"/>\n",
       "<text font-family=\"Times,serif\" font-size=\"14.00\" text-anchor=\"middle\" x=\"167\" y=\"-363.3\">input:</text>\n",
       "<polyline fill=\"none\" points=\"139.5,-355.5 194.5,-355.5 \" stroke=\"black\"/>\n",
       "<text font-family=\"Times,serif\" font-size=\"14.00\" text-anchor=\"middle\" x=\"167\" y=\"-340.3\">output:</text>\n",
       "<polyline fill=\"none\" points=\"194.5,-332.5 194.5,-378.5 \" stroke=\"black\"/>\n",
       "<text font-family=\"Times,serif\" font-size=\"14.00\" text-anchor=\"middle\" x=\"236\" y=\"-363.3\">(None, 512)</text>\n",
       "<polyline fill=\"none\" points=\"194.5,-355.5 277.5,-355.5 \" stroke=\"black\"/>\n",
       "<text font-family=\"Times,serif\" font-size=\"14.00\" text-anchor=\"middle\" x=\"236\" y=\"-340.3\">(None, 512)</text>\n",
       "</g>\n",
       "<!-- 140116141969024&#45;&gt;140116141968856 -->\n",
       "<g class=\"edge\" id=\"edge5\"><title>140116141969024-&gt;140116141968856</title>\n",
       "<path d=\"M153,-415.366C153,-407.152 153,-397.658 153,-388.725\" fill=\"none\" stroke=\"black\"/>\n",
       "<polygon fill=\"black\" points=\"156.5,-388.607 153,-378.607 149.5,-388.607 156.5,-388.607\" stroke=\"black\"/>\n",
       "</g>\n",
       "<!-- 140116141968800 -->\n",
       "<g class=\"node\" id=\"node6\"><title>140116141968800</title>\n",
       "<polygon fill=\"none\" points=\"33,-249.5 33,-295.5 273,-295.5 273,-249.5 33,-249.5\" stroke=\"black\"/>\n",
       "<text font-family=\"Times,serif\" font-size=\"14.00\" text-anchor=\"middle\" x=\"84\" y=\"-268.8\">dense_6: Dense</text>\n",
       "<polyline fill=\"none\" points=\"135,-249.5 135,-295.5 \" stroke=\"black\"/>\n",
       "<text font-family=\"Times,serif\" font-size=\"14.00\" text-anchor=\"middle\" x=\"162.5\" y=\"-280.3\">input:</text>\n",
       "<polyline fill=\"none\" points=\"135,-272.5 190,-272.5 \" stroke=\"black\"/>\n",
       "<text font-family=\"Times,serif\" font-size=\"14.00\" text-anchor=\"middle\" x=\"162.5\" y=\"-257.3\">output:</text>\n",
       "<polyline fill=\"none\" points=\"190,-249.5 190,-295.5 \" stroke=\"black\"/>\n",
       "<text font-family=\"Times,serif\" font-size=\"14.00\" text-anchor=\"middle\" x=\"231.5\" y=\"-280.3\">(None, 512)</text>\n",
       "<polyline fill=\"none\" points=\"190,-272.5 273,-272.5 \" stroke=\"black\"/>\n",
       "<text font-family=\"Times,serif\" font-size=\"14.00\" text-anchor=\"middle\" x=\"231.5\" y=\"-257.3\">(None, 512)</text>\n",
       "</g>\n",
       "<!-- 140116141968856&#45;&gt;140116141968800 -->\n",
       "<g class=\"edge\" id=\"edge6\"><title>140116141968856-&gt;140116141968800</title>\n",
       "<path d=\"M153,-332.366C153,-324.152 153,-314.658 153,-305.725\" fill=\"none\" stroke=\"black\"/>\n",
       "<polygon fill=\"black\" points=\"156.5,-305.607 153,-295.607 149.5,-305.607 156.5,-305.607\" stroke=\"black\"/>\n",
       "</g>\n",
       "<!-- 140116141968352 -->\n",
       "<g class=\"node\" id=\"node7\"><title>140116141968352</title>\n",
       "<polygon fill=\"none\" points=\"0,-166.5 0,-212.5 306,-212.5 306,-166.5 0,-166.5\" stroke=\"black\"/>\n",
       "<text font-family=\"Times,serif\" font-size=\"14.00\" text-anchor=\"middle\" x=\"84\" y=\"-185.8\">leaky_re_lu_5: LeakyReLU</text>\n",
       "<polyline fill=\"none\" points=\"168,-166.5 168,-212.5 \" stroke=\"black\"/>\n",
       "<text font-family=\"Times,serif\" font-size=\"14.00\" text-anchor=\"middle\" x=\"195.5\" y=\"-197.3\">input:</text>\n",
       "<polyline fill=\"none\" points=\"168,-189.5 223,-189.5 \" stroke=\"black\"/>\n",
       "<text font-family=\"Times,serif\" font-size=\"14.00\" text-anchor=\"middle\" x=\"195.5\" y=\"-174.3\">output:</text>\n",
       "<polyline fill=\"none\" points=\"223,-166.5 223,-212.5 \" stroke=\"black\"/>\n",
       "<text font-family=\"Times,serif\" font-size=\"14.00\" text-anchor=\"middle\" x=\"264.5\" y=\"-197.3\">(None, 512)</text>\n",
       "<polyline fill=\"none\" points=\"223,-189.5 306,-189.5 \" stroke=\"black\"/>\n",
       "<text font-family=\"Times,serif\" font-size=\"14.00\" text-anchor=\"middle\" x=\"264.5\" y=\"-174.3\">(None, 512)</text>\n",
       "</g>\n",
       "<!-- 140116141968800&#45;&gt;140116141968352 -->\n",
       "<g class=\"edge\" id=\"edge7\"><title>140116141968800-&gt;140116141968352</title>\n",
       "<path d=\"M153,-249.366C153,-241.152 153,-231.658 153,-222.725\" fill=\"none\" stroke=\"black\"/>\n",
       "<polygon fill=\"black\" points=\"156.5,-222.607 153,-212.607 149.5,-222.607 156.5,-222.607\" stroke=\"black\"/>\n",
       "</g>\n",
       "<!-- 140116141968408 -->\n",
       "<g class=\"node\" id=\"node8\"><title>140116141968408</title>\n",
       "<polygon fill=\"none\" points=\"21.5,-83.5 21.5,-129.5 284.5,-129.5 284.5,-83.5 21.5,-83.5\" stroke=\"black\"/>\n",
       "<text font-family=\"Times,serif\" font-size=\"14.00\" text-anchor=\"middle\" x=\"84\" y=\"-102.8\">dropout_1: Dropout</text>\n",
       "<polyline fill=\"none\" points=\"146.5,-83.5 146.5,-129.5 \" stroke=\"black\"/>\n",
       "<text font-family=\"Times,serif\" font-size=\"14.00\" text-anchor=\"middle\" x=\"174\" y=\"-114.3\">input:</text>\n",
       "<polyline fill=\"none\" points=\"146.5,-106.5 201.5,-106.5 \" stroke=\"black\"/>\n",
       "<text font-family=\"Times,serif\" font-size=\"14.00\" text-anchor=\"middle\" x=\"174\" y=\"-91.3\">output:</text>\n",
       "<polyline fill=\"none\" points=\"201.5,-83.5 201.5,-129.5 \" stroke=\"black\"/>\n",
       "<text font-family=\"Times,serif\" font-size=\"14.00\" text-anchor=\"middle\" x=\"243\" y=\"-114.3\">(None, 512)</text>\n",
       "<polyline fill=\"none\" points=\"201.5,-106.5 284.5,-106.5 \" stroke=\"black\"/>\n",
       "<text font-family=\"Times,serif\" font-size=\"14.00\" text-anchor=\"middle\" x=\"243\" y=\"-91.3\">(None, 512)</text>\n",
       "</g>\n",
       "<!-- 140116141968352&#45;&gt;140116141968408 -->\n",
       "<g class=\"edge\" id=\"edge8\"><title>140116141968352-&gt;140116141968408</title>\n",
       "<path d=\"M153,-166.366C153,-158.152 153,-148.658 153,-139.725\" fill=\"none\" stroke=\"black\"/>\n",
       "<polygon fill=\"black\" points=\"156.5,-139.607 153,-129.607 149.5,-139.607 156.5,-139.607\" stroke=\"black\"/>\n",
       "</g>\n",
       "<!-- 140116141968296 -->\n",
       "<g class=\"node\" id=\"node9\"><title>140116141968296</title>\n",
       "<polygon fill=\"none\" points=\"33,-0.5 33,-46.5 273,-46.5 273,-0.5 33,-0.5\" stroke=\"black\"/>\n",
       "<text font-family=\"Times,serif\" font-size=\"14.00\" text-anchor=\"middle\" x=\"84\" y=\"-19.8\">dense_7: Dense</text>\n",
       "<polyline fill=\"none\" points=\"135,-0.5 135,-46.5 \" stroke=\"black\"/>\n",
       "<text font-family=\"Times,serif\" font-size=\"14.00\" text-anchor=\"middle\" x=\"162.5\" y=\"-31.3\">input:</text>\n",
       "<polyline fill=\"none\" points=\"135,-23.5 190,-23.5 \" stroke=\"black\"/>\n",
       "<text font-family=\"Times,serif\" font-size=\"14.00\" text-anchor=\"middle\" x=\"162.5\" y=\"-8.3\">output:</text>\n",
       "<polyline fill=\"none\" points=\"190,-0.5 190,-46.5 \" stroke=\"black\"/>\n",
       "<text font-family=\"Times,serif\" font-size=\"14.00\" text-anchor=\"middle\" x=\"231.5\" y=\"-31.3\">(None, 512)</text>\n",
       "<polyline fill=\"none\" points=\"190,-23.5 273,-23.5 \" stroke=\"black\"/>\n",
       "<text font-family=\"Times,serif\" font-size=\"14.00\" text-anchor=\"middle\" x=\"231.5\" y=\"-8.3\">(None, 1)</text>\n",
       "</g>\n",
       "<!-- 140116141968408&#45;&gt;140116141968296 -->\n",
       "<g class=\"edge\" id=\"edge9\"><title>140116141968408-&gt;140116141968296</title>\n",
       "<path d=\"M153,-83.3664C153,-75.1516 153,-65.6579 153,-56.7252\" fill=\"none\" stroke=\"black\"/>\n",
       "<polygon fill=\"black\" points=\"156.5,-56.6068 153,-46.6068 149.5,-56.6069 156.5,-56.6068\" stroke=\"black\"/>\n",
       "</g>\n",
       "<!-- 140116141967568 -->\n",
       "<g class=\"node\" id=\"node10\"><title>140116141967568</title>\n",
       "<polygon fill=\"none\" points=\"94,-747.5 94,-783.5 212,-783.5 212,-747.5 94,-747.5\" stroke=\"black\"/>\n",
       "<text font-family=\"Times,serif\" font-size=\"14.00\" text-anchor=\"middle\" x=\"153\" y=\"-761.8\">140116141967568</text>\n",
       "</g>\n",
       "<!-- 140116141967568&#45;&gt;140116164374368 -->\n",
       "<g class=\"edge\" id=\"edge1\"><title>140116141967568-&gt;140116164374368</title>\n",
       "<path d=\"M153,-747.254C153,-739.363 153,-729.749 153,-720.602\" fill=\"none\" stroke=\"black\"/>\n",
       "<polygon fill=\"black\" points=\"156.5,-720.591 153,-710.591 149.5,-720.591 156.5,-720.591\" stroke=\"black\"/>\n",
       "</g>\n",
       "</g>\n",
       "</svg>"
      ],
      "text/plain": [
       "<IPython.core.display.SVG object>"
      ]
     },
     "execution_count": 11,
     "metadata": {},
     "output_type": "execute_result"
    }
   ],
   "source": [
    "SVG(model_to_dot(discriminator.layers[5], show_shapes = True, show_layer_names = True).create(prog = 'dot', format = 'svg'))"
   ]
  },
  {
   "cell_type": "code",
   "execution_count": 12,
   "metadata": {},
   "outputs": [],
   "source": [
    "optimizer = Adam(0.0002, 0.5)"
   ]
  },
  {
   "cell_type": "code",
   "execution_count": 13,
   "metadata": {},
   "outputs": [],
   "source": [
    "discriminator.compile(loss = ['binary_crossentropy'], optimizer = optimizer, metrics = ['accuracy'])"
   ]
  },
  {
   "cell_type": "code",
   "execution_count": 14,
   "metadata": {},
   "outputs": [],
   "source": [
    "noise = Input(shape = (LATENT_DIMENSION, ))\n",
    "label = Input(shape = (1, ))\n",
    "image = generator([noise, label])"
   ]
  },
  {
   "cell_type": "code",
   "execution_count": 15,
   "metadata": {},
   "outputs": [],
   "source": [
    "discriminator.trainable = False"
   ]
  },
  {
   "cell_type": "code",
   "execution_count": 16,
   "metadata": {},
   "outputs": [],
   "source": [
    "valid = discriminator([image, label])"
   ]
  },
  {
   "cell_type": "code",
   "execution_count": 17,
   "metadata": {},
   "outputs": [],
   "source": [
    "gan = Model([noise, label], valid)\n",
    "gan.compile(loss = ['binary_crossentropy'], optimizer = optimizer)"
   ]
  },
  {
   "cell_type": "code",
   "execution_count": 18,
   "metadata": {},
   "outputs": [],
   "source": [
    "def train(x_train, y_train, batch_size, epochs):\n",
    "    generator_loss_history, discriminator_loss_history = [], []\n",
    "    \n",
    "    # Adversarial ground truths\n",
    "    valid = np.ones((batch_size, 1))\n",
    "    fake = np.zeros((batch_size, 1))\n",
    "    \n",
    "    for epoch in tqdm(range(1, epochs + 1)):\n",
    "        \n",
    "        # random batch of images\n",
    "        index = np.random.randint(0, x_train.shape[0], batch_size)\n",
    "        batch_images, batch_labels = x_train[index], y_train[index]\n",
    "        \n",
    "        # Noise for generator input\n",
    "        noise = np.random.normal(0, 1, (batch_size, 100))\n",
    "        \n",
    "        # Generate batch of images from noise\n",
    "        generated_images = generator.predict([noise, batch_labels])\n",
    "        \n",
    "        # Training the Discriminator\n",
    "        discriminator_loss_real = discriminator.train_on_batch([batch_images, batch_labels], valid)\n",
    "        discriminator_loss_fake = discriminator.train_on_batch([generated_images, batch_labels], fake)\n",
    "        discriminator_loss = 0.5 * np.add(discriminator_loss_real, discriminator_loss_fake)\n",
    "        discriminator_loss_history.append(discriminator_loss)\n",
    "        \n",
    "        # Label Condition\n",
    "        sample_labels = np.random.randint(0, 10, batch_size).reshape(-1, 1)\n",
    "        \n",
    "        # Training the Generator\n",
    "        generator_loss = gan.train_on_batch([noise, sample_labels], valid)\n",
    "        generator_loss_history.append(generator_loss)\n",
    "        \n",
    "        if epoch % 500 == 0:\n",
    "            print('Epoch ' + str(epoch) +\\\n",
    "                  ':\\tGenerator Loss = ' + str(generator_loss_history[-1]) +\\\n",
    "                  '\\tDiscrimintaor Loss = ' + str(discriminator_loss_history[-1]))\n",
    "    \n",
    "    return generator_loss_history, discriminator_loss_history"
   ]
  },
  {
   "cell_type": "code",
   "execution_count": 19,
   "metadata": {},
   "outputs": [],
   "source": [
    "# generator_loss_history, discriminator_loss_history = train(x_train, y_train, BATCH_SIZE, EPOCHS)"
   ]
  },
  {
   "cell_type": "code",
   "execution_count": 20,
   "metadata": {},
   "outputs": [],
   "source": []
  }
 ],
 "metadata": {
  "kernelspec": {
   "display_name": "Python 3",
   "language": "python",
   "name": "python3"
  },
  "language_info": {
   "codemirror_mode": {
    "name": "ipython",
    "version": 3
   },
   "file_extension": ".py",
   "mimetype": "text/x-python",
   "name": "python",
   "nbconvert_exporter": "python",
   "pygments_lexer": "ipython3",
   "version": "3.6.4"
  }
 },
 "nbformat": 4,
 "nbformat_minor": 1
}
